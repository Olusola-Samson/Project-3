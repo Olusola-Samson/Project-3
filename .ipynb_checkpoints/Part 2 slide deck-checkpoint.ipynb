{
 "cells": [
  {
   "cell_type": "markdown",
   "metadata": {
    "slideshow": {
     "slide_type": "slide"
    }
   },
   "source": [
    "# Part II - (Exploring factors of loans)\n",
    "## by (OLUSOLA SAMSON)\n",
    "\n",
    "\n"
   ]
  },
  {
   "cell_type": "markdown",
   "metadata": {
    "slideshow": {
     "slide_type": "slide"
    }
   },
   "source": [
    "\n",
    "## Investigation Overview\n",
    "**I wanna know about:**\n",
    "\n",
    "> **The factors surrounding collection of loans and how much the lenders make?**\n",
    "\n",
    "> **Does creditscore really affect loan payments or is it just a ruse ?**\n",
    "\n",
    "\n",
    "## Dataset Overview\n",
    "\n",
    "\n",
    ">**There are 77557 loans and 17 variables with of which most are numerical in nature and the rest are dates and categorical data.\n",
    "most variables e.g credit score are ordered/ranked, while Term and Loan status are categorical**\n"
   ]
  },
  {
   "cell_type": "code",
   "execution_count": 1,
   "metadata": {
    "slideshow": {
     "slide_type": "skip"
    }
   },
   "outputs": [],
   "source": [
    "# import all packages and set plots to be embedded inline\n",
    "import pandas as pd\n",
    "import numpy as np\n",
    "import matplotlib.pyplot as plt\n",
    "from matplotlib import style\n",
    "import seaborn as sb\n",
    "%matplotlib inline\n",
    "\n",
    "# suppress warnings from final output\n",
    "import warnings\n",
    "warnings.simplefilter(\"ignore\")"
   ]
  },
  {
   "cell_type": "code",
   "execution_count": 2,
   "metadata": {
    "slideshow": {
     "slide_type": "skip"
    }
   },
   "outputs": [
    {
     "data": {
      "text/html": [
       "<div>\n",
       "<style scoped>\n",
       "    .dataframe tbody tr th:only-of-type {\n",
       "        vertical-align: middle;\n",
       "    }\n",
       "\n",
       "    .dataframe tbody tr th {\n",
       "        vertical-align: top;\n",
       "    }\n",
       "\n",
       "    .dataframe thead th {\n",
       "        text-align: right;\n",
       "    }\n",
       "</style>\n",
       "<table border=\"1\" class=\"dataframe\">\n",
       "  <thead>\n",
       "    <tr style=\"text-align: right;\">\n",
       "      <th></th>\n",
       "      <th>ListingKey</th>\n",
       "      <th>ListingNumber</th>\n",
       "      <th>ListingCreationDate</th>\n",
       "      <th>CreditGrade</th>\n",
       "      <th>Term</th>\n",
       "      <th>LoanStatus</th>\n",
       "      <th>ClosedDate</th>\n",
       "      <th>BorrowerAPR</th>\n",
       "      <th>BorrowerRate</th>\n",
       "      <th>LenderYield</th>\n",
       "      <th>...</th>\n",
       "      <th>LP_ServiceFees</th>\n",
       "      <th>LP_CollectionFees</th>\n",
       "      <th>LP_GrossPrincipalLoss</th>\n",
       "      <th>LP_NetPrincipalLoss</th>\n",
       "      <th>LP_NonPrincipalRecoverypayments</th>\n",
       "      <th>PercentFunded</th>\n",
       "      <th>Recommendations</th>\n",
       "      <th>InvestmentFromFriendsCount</th>\n",
       "      <th>InvestmentFromFriendsAmount</th>\n",
       "      <th>Investors</th>\n",
       "    </tr>\n",
       "  </thead>\n",
       "  <tbody>\n",
       "    <tr>\n",
       "      <th>0</th>\n",
       "      <td>1021339766868145413AB3B</td>\n",
       "      <td>193129</td>\n",
       "      <td>2007-08-26 19:09:29.263000000</td>\n",
       "      <td>C</td>\n",
       "      <td>36</td>\n",
       "      <td>Completed</td>\n",
       "      <td>2009-08-14 00:00:00</td>\n",
       "      <td>0.16516</td>\n",
       "      <td>0.158</td>\n",
       "      <td>0.138</td>\n",
       "      <td>...</td>\n",
       "      <td>-133.18</td>\n",
       "      <td>0.0</td>\n",
       "      <td>0.0</td>\n",
       "      <td>0.0</td>\n",
       "      <td>0.0</td>\n",
       "      <td>1.0</td>\n",
       "      <td>0</td>\n",
       "      <td>0</td>\n",
       "      <td>0.0</td>\n",
       "      <td>258</td>\n",
       "    </tr>\n",
       "    <tr>\n",
       "      <th>1</th>\n",
       "      <td>10273602499503308B223C1</td>\n",
       "      <td>1209647</td>\n",
       "      <td>2014-02-27 08:28:07.900000000</td>\n",
       "      <td>NaN</td>\n",
       "      <td>36</td>\n",
       "      <td>Current</td>\n",
       "      <td>NaN</td>\n",
       "      <td>0.12016</td>\n",
       "      <td>0.092</td>\n",
       "      <td>0.082</td>\n",
       "      <td>...</td>\n",
       "      <td>0.00</td>\n",
       "      <td>0.0</td>\n",
       "      <td>0.0</td>\n",
       "      <td>0.0</td>\n",
       "      <td>0.0</td>\n",
       "      <td>1.0</td>\n",
       "      <td>0</td>\n",
       "      <td>0</td>\n",
       "      <td>0.0</td>\n",
       "      <td>1</td>\n",
       "    </tr>\n",
       "    <tr>\n",
       "      <th>2</th>\n",
       "      <td>0EE9337825851032864889A</td>\n",
       "      <td>81716</td>\n",
       "      <td>2007-01-05 15:00:47.090000000</td>\n",
       "      <td>HR</td>\n",
       "      <td>36</td>\n",
       "      <td>Completed</td>\n",
       "      <td>2009-12-17 00:00:00</td>\n",
       "      <td>0.28269</td>\n",
       "      <td>0.275</td>\n",
       "      <td>0.240</td>\n",
       "      <td>...</td>\n",
       "      <td>-24.20</td>\n",
       "      <td>0.0</td>\n",
       "      <td>0.0</td>\n",
       "      <td>0.0</td>\n",
       "      <td>0.0</td>\n",
       "      <td>1.0</td>\n",
       "      <td>0</td>\n",
       "      <td>0</td>\n",
       "      <td>0.0</td>\n",
       "      <td>41</td>\n",
       "    </tr>\n",
       "  </tbody>\n",
       "</table>\n",
       "<p>3 rows × 81 columns</p>\n",
       "</div>"
      ],
      "text/plain": [
       "                ListingKey  ListingNumber            ListingCreationDate  \\\n",
       "0  1021339766868145413AB3B         193129  2007-08-26 19:09:29.263000000   \n",
       "1  10273602499503308B223C1        1209647  2014-02-27 08:28:07.900000000   \n",
       "2  0EE9337825851032864889A          81716  2007-01-05 15:00:47.090000000   \n",
       "\n",
       "  CreditGrade  Term LoanStatus           ClosedDate  BorrowerAPR  \\\n",
       "0           C    36  Completed  2009-08-14 00:00:00      0.16516   \n",
       "1         NaN    36    Current                  NaN      0.12016   \n",
       "2          HR    36  Completed  2009-12-17 00:00:00      0.28269   \n",
       "\n",
       "   BorrowerRate  LenderYield  ...  LP_ServiceFees  LP_CollectionFees  \\\n",
       "0         0.158        0.138  ...         -133.18                0.0   \n",
       "1         0.092        0.082  ...            0.00                0.0   \n",
       "2         0.275        0.240  ...          -24.20                0.0   \n",
       "\n",
       "   LP_GrossPrincipalLoss  LP_NetPrincipalLoss LP_NonPrincipalRecoverypayments  \\\n",
       "0                    0.0                  0.0                             0.0   \n",
       "1                    0.0                  0.0                             0.0   \n",
       "2                    0.0                  0.0                             0.0   \n",
       "\n",
       "   PercentFunded  Recommendations InvestmentFromFriendsCount  \\\n",
       "0            1.0                0                          0   \n",
       "1            1.0                0                          0   \n",
       "2            1.0                0                          0   \n",
       "\n",
       "  InvestmentFromFriendsAmount Investors  \n",
       "0                         0.0       258  \n",
       "1                         0.0         1  \n",
       "2                         0.0        41  \n",
       "\n",
       "[3 rows x 81 columns]"
      ]
     },
     "execution_count": 2,
     "metadata": {},
     "output_type": "execute_result"
    }
   ],
   "source": [
    "df = pd.read_csv('prosperLoanData.csv')\n",
    "df.head(3)"
   ]
  },
  {
   "cell_type": "code",
   "execution_count": 3,
   "id": "f053d7db",
   "metadata": {
    "slideshow": {
     "slide_type": "skip"
    }
   },
   "outputs": [
    {
     "name": "stdout",
     "output_type": "stream",
     "text": [
      "(113937, 18)\n"
     ]
    },
    {
     "data": {
      "text/html": [
       "<div>\n",
       "<style scoped>\n",
       "    .dataframe tbody tr th:only-of-type {\n",
       "        vertical-align: middle;\n",
       "    }\n",
       "\n",
       "    .dataframe tbody tr th {\n",
       "        vertical-align: top;\n",
       "    }\n",
       "\n",
       "    .dataframe thead th {\n",
       "        text-align: right;\n",
       "    }\n",
       "</style>\n",
       "<table border=\"1\" class=\"dataframe\">\n",
       "  <thead>\n",
       "    <tr style=\"text-align: right;\">\n",
       "      <th></th>\n",
       "      <th>Term</th>\n",
       "      <th>LoanStatus</th>\n",
       "      <th>BorrowerAPR %</th>\n",
       "      <th>BorrowerRate %</th>\n",
       "      <th>LenderYield %</th>\n",
       "      <th>EstimatedEffectiveYield %</th>\n",
       "      <th>EstimatedReturn %</th>\n",
       "      <th>EstimatedLoss %</th>\n",
       "      <th>DebtToIncomeRatio %</th>\n",
       "      <th>CreditScore</th>\n",
       "      <th>IncomeRange</th>\n",
       "      <th>StatedMonthlyIncome</th>\n",
       "      <th>LoanOriginalAmount</th>\n",
       "      <th>LoanOriginationDate</th>\n",
       "      <th>MonthlyLoanPayment</th>\n",
       "      <th>LP_CustomerPayments</th>\n",
       "      <th>LP_NetPrincipalLoss</th>\n",
       "      <th>IncomeVerifiable</th>\n",
       "    </tr>\n",
       "  </thead>\n",
       "  <tbody>\n",
       "    <tr>\n",
       "      <th>0</th>\n",
       "      <td>36</td>\n",
       "      <td>Completed</td>\n",
       "      <td>16.516</td>\n",
       "      <td>15.80</td>\n",
       "      <td>13.80</td>\n",
       "      <td>NaN</td>\n",
       "      <td>NaN</td>\n",
       "      <td>NaN</td>\n",
       "      <td>17.0</td>\n",
       "      <td>649.5</td>\n",
       "      <td>$25,000-49,999</td>\n",
       "      <td>3083.333333</td>\n",
       "      <td>9425</td>\n",
       "      <td>2007-09-12 00:00:00</td>\n",
       "      <td>330.43</td>\n",
       "      <td>11396.14</td>\n",
       "      <td>0.0</td>\n",
       "      <td>True</td>\n",
       "    </tr>\n",
       "    <tr>\n",
       "      <th>1</th>\n",
       "      <td>36</td>\n",
       "      <td>Current</td>\n",
       "      <td>12.016</td>\n",
       "      <td>9.20</td>\n",
       "      <td>8.20</td>\n",
       "      <td>7.960</td>\n",
       "      <td>5.470</td>\n",
       "      <td>2.49</td>\n",
       "      <td>18.0</td>\n",
       "      <td>689.5</td>\n",
       "      <td>$50,000-74,999</td>\n",
       "      <td>6125.000000</td>\n",
       "      <td>10000</td>\n",
       "      <td>2014-03-03 00:00:00</td>\n",
       "      <td>318.93</td>\n",
       "      <td>0.00</td>\n",
       "      <td>0.0</td>\n",
       "      <td>True</td>\n",
       "    </tr>\n",
       "    <tr>\n",
       "      <th>2</th>\n",
       "      <td>36</td>\n",
       "      <td>Completed</td>\n",
       "      <td>28.269</td>\n",
       "      <td>27.50</td>\n",
       "      <td>24.00</td>\n",
       "      <td>NaN</td>\n",
       "      <td>NaN</td>\n",
       "      <td>NaN</td>\n",
       "      <td>6.0</td>\n",
       "      <td>489.5</td>\n",
       "      <td>Not displayed</td>\n",
       "      <td>2083.333333</td>\n",
       "      <td>3001</td>\n",
       "      <td>2007-01-17 00:00:00</td>\n",
       "      <td>123.32</td>\n",
       "      <td>4186.63</td>\n",
       "      <td>0.0</td>\n",
       "      <td>True</td>\n",
       "    </tr>\n",
       "    <tr>\n",
       "      <th>3</th>\n",
       "      <td>36</td>\n",
       "      <td>Current</td>\n",
       "      <td>12.528</td>\n",
       "      <td>9.74</td>\n",
       "      <td>8.74</td>\n",
       "      <td>8.490</td>\n",
       "      <td>6.000</td>\n",
       "      <td>2.49</td>\n",
       "      <td>15.0</td>\n",
       "      <td>809.5</td>\n",
       "      <td>$25,000-49,999</td>\n",
       "      <td>2875.000000</td>\n",
       "      <td>10000</td>\n",
       "      <td>2012-11-01 00:00:00</td>\n",
       "      <td>321.45</td>\n",
       "      <td>5143.20</td>\n",
       "      <td>0.0</td>\n",
       "      <td>True</td>\n",
       "    </tr>\n",
       "    <tr>\n",
       "      <th>4</th>\n",
       "      <td>36</td>\n",
       "      <td>Current</td>\n",
       "      <td>24.614</td>\n",
       "      <td>20.85</td>\n",
       "      <td>19.85</td>\n",
       "      <td>18.316</td>\n",
       "      <td>9.066</td>\n",
       "      <td>9.25</td>\n",
       "      <td>26.0</td>\n",
       "      <td>689.5</td>\n",
       "      <td>$100,000+</td>\n",
       "      <td>9583.333333</td>\n",
       "      <td>15000</td>\n",
       "      <td>2013-09-20 00:00:00</td>\n",
       "      <td>563.97</td>\n",
       "      <td>2819.85</td>\n",
       "      <td>0.0</td>\n",
       "      <td>True</td>\n",
       "    </tr>\n",
       "  </tbody>\n",
       "</table>\n",
       "</div>"
      ],
      "text/plain": [
       "   Term LoanStatus  BorrowerAPR %  BorrowerRate %  LenderYield %  \\\n",
       "0    36  Completed         16.516           15.80          13.80   \n",
       "1    36    Current         12.016            9.20           8.20   \n",
       "2    36  Completed         28.269           27.50          24.00   \n",
       "3    36    Current         12.528            9.74           8.74   \n",
       "4    36    Current         24.614           20.85          19.85   \n",
       "\n",
       "   EstimatedEffectiveYield %  EstimatedReturn %  EstimatedLoss %  \\\n",
       "0                        NaN                NaN              NaN   \n",
       "1                      7.960              5.470             2.49   \n",
       "2                        NaN                NaN              NaN   \n",
       "3                      8.490              6.000             2.49   \n",
       "4                     18.316              9.066             9.25   \n",
       "\n",
       "   DebtToIncomeRatio %  CreditScore     IncomeRange  StatedMonthlyIncome  \\\n",
       "0                 17.0        649.5  $25,000-49,999          3083.333333   \n",
       "1                 18.0        689.5  $50,000-74,999          6125.000000   \n",
       "2                  6.0        489.5   Not displayed          2083.333333   \n",
       "3                 15.0        809.5  $25,000-49,999          2875.000000   \n",
       "4                 26.0        689.5       $100,000+          9583.333333   \n",
       "\n",
       "   LoanOriginalAmount  LoanOriginationDate  MonthlyLoanPayment  \\\n",
       "0                9425  2007-09-12 00:00:00              330.43   \n",
       "1               10000  2014-03-03 00:00:00              318.93   \n",
       "2                3001  2007-01-17 00:00:00              123.32   \n",
       "3               10000  2012-11-01 00:00:00              321.45   \n",
       "4               15000  2013-09-20 00:00:00              563.97   \n",
       "\n",
       "   LP_CustomerPayments  LP_NetPrincipalLoss  IncomeVerifiable  \n",
       "0             11396.14                  0.0              True  \n",
       "1                 0.00                  0.0              True  \n",
       "2              4186.63                  0.0              True  \n",
       "3              5143.20                  0.0              True  \n",
       "4              2819.85                  0.0              True  "
      ]
     },
     "execution_count": 3,
     "metadata": {},
     "output_type": "execute_result"
    }
   ],
   "source": [
    "#Reducing the datasets to contain the main features\n",
    "newdf = pd.DataFrame()\n",
    "newdf['Term'] = df['Term']\n",
    "newdf['LoanStatus'] = df['LoanStatus'] \n",
    "newdf['BorrowerAPR %'] = df['BorrowerAPR'] * 100\n",
    "newdf['BorrowerRate %'] = df['BorrowerRate'] * 100\n",
    "newdf['LenderYield %'] = df['LenderYield'] * 100\n",
    "newdf['EstimatedEffectiveYield %'] = df['EstimatedEffectiveYield'] * 100\n",
    "newdf['EstimatedReturn %'] = df['EstimatedReturn'] * 100\n",
    "newdf['EstimatedLoss %'] = df['EstimatedLoss'] * 100\n",
    "newdf['DebtToIncomeRatio %'] = df['DebtToIncomeRatio'] * 100\n",
    "newdf['CreditScore'] = ((df['CreditScoreRangeLower'] + df['CreditScoreRangeUpper']) / 2)\n",
    "newdf['IncomeRange'] = df['IncomeRange'] \n",
    "newdf['StatedMonthlyIncome'] = df['StatedMonthlyIncome'] \n",
    "newdf['LoanOriginalAmount'] = df['LoanOriginalAmount'] \n",
    "newdf['LoanOriginationDate'] = df['LoanOriginationDate'] \n",
    "newdf['MonthlyLoanPayment'] = df['MonthlyLoanPayment'] \n",
    "newdf['LP_CustomerPayments'] = df['LP_CustomerPayments']\n",
    "newdf['LP_NetPrincipalLoss'] = df['LP_NetPrincipalLoss']\n",
    "newdf['IncomeVerifiable'] = df['IncomeVerifiable']\n",
    "\n",
    "print(newdf.shape)\n",
    "newdf.head(5)\n"
   ]
  },
  {
   "cell_type": "code",
   "execution_count": 4,
   "metadata": {
    "slideshow": {
     "slide_type": "skip"
    }
   },
   "outputs": [
    {
     "name": "stdout",
     "output_type": "stream",
     "text": [
      "<class 'pandas.core.frame.DataFrame'>\n",
      "RangeIndex: 77557 entries, 0 to 77556\n",
      "Data columns (total 18 columns):\n",
      " #   Column                     Non-Null Count  Dtype  \n",
      "---  ------                     --------------  -----  \n",
      " 0   Term                       77557 non-null  int64  \n",
      " 1   LoanStatus                 77557 non-null  object \n",
      " 2   BorrowerAPR %              77557 non-null  float64\n",
      " 3   BorrowerRate %             77557 non-null  float64\n",
      " 4   LenderYield %              77557 non-null  float64\n",
      " 5   EstimatedEffectiveYield %  77557 non-null  float64\n",
      " 6   EstimatedReturn %          77557 non-null  float64\n",
      " 7   EstimatedLoss %            77557 non-null  float64\n",
      " 8   DebtToIncomeRatio %        77557 non-null  float64\n",
      " 9   CreditScore                77557 non-null  float64\n",
      " 10  IncomeRange                77557 non-null  object \n",
      " 11  StatedMonthlyIncome        77557 non-null  float64\n",
      " 12  LoanOriginalAmount         77557 non-null  int64  \n",
      " 13  LoanOriginationDate        77557 non-null  object \n",
      " 14  MonthlyLoanPayment         77557 non-null  float64\n",
      " 15  LP_CustomerPayments        77557 non-null  float64\n",
      " 16  LP_NetPrincipalLoss        77557 non-null  float64\n",
      " 17  IncomeVerifiable           77557 non-null  bool   \n",
      "dtypes: bool(1), float64(12), int64(2), object(3)\n",
      "memory usage: 9.2+ MB\n"
     ]
    }
   ],
   "source": [
    "#Filling the column with the mean \n",
    "newdf['BorrowerAPR %'] = newdf['BorrowerAPR %'].fillna(newdf['BorrowerAPR %'].mean())\n",
    "# dropping rows that have null values based on borrower apr\n",
    "tf = newdf.dropna()\n",
    "tf = tf.reset_index(drop=True)\n",
    "tf.info()"
   ]
  },
  {
   "cell_type": "code",
   "execution_count": 5,
   "id": "088a9af4",
   "metadata": {
    "slideshow": {
     "slide_type": "skip"
    }
   },
   "outputs": [
    {
     "name": "stdout",
     "output_type": "stream",
     "text": [
      "  CreditScore_Rating\n",
      "0               Good\n",
      "1          Excellent\n",
      "2               Good\n",
      "3          Very good\n",
      "4               Good\n",
      "5               Good\n",
      "6          Excellent\n",
      "7          Excellent\n",
      "8               Fair\n",
      "9               Good\n",
      "       CreditScore_Rating\n",
      "0                   False\n",
      "1                   False\n",
      "2                   False\n",
      "3                   False\n",
      "4                   False\n",
      "...                   ...\n",
      "77552               False\n",
      "77553               False\n",
      "77554               False\n",
      "77555               False\n",
      "77556               False\n",
      "\n",
      "[77557 rows x 1 columns]\n"
     ]
    }
   ],
   "source": [
    "#Creating a new column to contain the order  of creditscore\n",
    "CreditScore_Rating = []\n",
    "a = 'Excellent'\n",
    "b = 'Very good'\n",
    "c = 'Good'\n",
    "d = 'Fair'\n",
    "e = 'Poor'\n",
    "for items in tf['CreditScore']:\n",
    "    if items >= 800:\n",
    "        CreditScore_Rating.append(a)\n",
    "    elif int(items) in np.arange(740.0,799.99):\n",
    "        CreditScore_Rating.append(b)\n",
    "    elif int(items) in np.arange(670.0,739.9):\n",
    "        CreditScore_Rating.append(c)\n",
    "    elif int(items) in np.arange(580.0,669.9):\n",
    "        CreditScore_Rating.append(d)\n",
    "    else:\n",
    "        CreditScore_Rating.append(e)\n",
    "        \n",
    "#print(CreditScore_Rating)\n",
    "cr = pd.DataFrame({'CreditScore_Rating':CreditScore_Rating}) \n",
    "print(cr.head(10))\n",
    "print(cr.isnull())"
   ]
  },
  {
   "cell_type": "code",
   "execution_count": 6,
   "metadata": {
    "slideshow": {
     "slide_type": "skip"
    }
   },
   "outputs": [
    {
     "data": {
      "text/html": [
       "<div>\n",
       "<style scoped>\n",
       "    .dataframe tbody tr th:only-of-type {\n",
       "        vertical-align: middle;\n",
       "    }\n",
       "\n",
       "    .dataframe tbody tr th {\n",
       "        vertical-align: top;\n",
       "    }\n",
       "\n",
       "    .dataframe thead th {\n",
       "        text-align: right;\n",
       "    }\n",
       "</style>\n",
       "<table border=\"1\" class=\"dataframe\">\n",
       "  <thead>\n",
       "    <tr style=\"text-align: right;\">\n",
       "      <th></th>\n",
       "      <th>Term</th>\n",
       "      <th>LoanStatus</th>\n",
       "      <th>BorrowerAPR %</th>\n",
       "      <th>BorrowerRate %</th>\n",
       "      <th>LenderYield %</th>\n",
       "      <th>EstimatedEffectiveYield %</th>\n",
       "      <th>EstimatedReturn %</th>\n",
       "      <th>EstimatedLoss %</th>\n",
       "      <th>DebtToIncomeRatio %</th>\n",
       "      <th>CreditScore</th>\n",
       "      <th>IncomeRange</th>\n",
       "      <th>StatedMonthlyIncome</th>\n",
       "      <th>LoanOriginalAmount</th>\n",
       "      <th>LoanOriginationDate</th>\n",
       "      <th>MonthlyLoanPayment</th>\n",
       "      <th>LP_CustomerPayments</th>\n",
       "      <th>LP_NetPrincipalLoss</th>\n",
       "      <th>IncomeVerifiable</th>\n",
       "      <th>CreditScore_Rating</th>\n",
       "    </tr>\n",
       "  </thead>\n",
       "  <tbody>\n",
       "    <tr>\n",
       "      <th>0</th>\n",
       "      <td>36</td>\n",
       "      <td>Current</td>\n",
       "      <td>12.016</td>\n",
       "      <td>9.20</td>\n",
       "      <td>8.20</td>\n",
       "      <td>7.96</td>\n",
       "      <td>5.47</td>\n",
       "      <td>2.49</td>\n",
       "      <td>18.0</td>\n",
       "      <td>689.5</td>\n",
       "      <td>$50,000-74,999</td>\n",
       "      <td>6125.0</td>\n",
       "      <td>10000</td>\n",
       "      <td>2014-03-03 00:00:00</td>\n",
       "      <td>318.93</td>\n",
       "      <td>0.0</td>\n",
       "      <td>0.0</td>\n",
       "      <td>True</td>\n",
       "      <td>Good</td>\n",
       "    </tr>\n",
       "    <tr>\n",
       "      <th>1</th>\n",
       "      <td>36</td>\n",
       "      <td>Current</td>\n",
       "      <td>12.528</td>\n",
       "      <td>9.74</td>\n",
       "      <td>8.74</td>\n",
       "      <td>8.49</td>\n",
       "      <td>6.00</td>\n",
       "      <td>2.49</td>\n",
       "      <td>15.0</td>\n",
       "      <td>809.5</td>\n",
       "      <td>$25,000-49,999</td>\n",
       "      <td>2875.0</td>\n",
       "      <td>10000</td>\n",
       "      <td>2012-11-01 00:00:00</td>\n",
       "      <td>321.45</td>\n",
       "      <td>5143.2</td>\n",
       "      <td>0.0</td>\n",
       "      <td>True</td>\n",
       "      <td>Excellent</td>\n",
       "    </tr>\n",
       "  </tbody>\n",
       "</table>\n",
       "</div>"
      ],
      "text/plain": [
       "   Term LoanStatus  BorrowerAPR %  BorrowerRate %  LenderYield %  \\\n",
       "0    36    Current         12.016            9.20           8.20   \n",
       "1    36    Current         12.528            9.74           8.74   \n",
       "\n",
       "   EstimatedEffectiveYield %  EstimatedReturn %  EstimatedLoss %  \\\n",
       "0                       7.96               5.47             2.49   \n",
       "1                       8.49               6.00             2.49   \n",
       "\n",
       "   DebtToIncomeRatio %  CreditScore     IncomeRange  StatedMonthlyIncome  \\\n",
       "0                 18.0        689.5  $50,000-74,999               6125.0   \n",
       "1                 15.0        809.5  $25,000-49,999               2875.0   \n",
       "\n",
       "   LoanOriginalAmount  LoanOriginationDate  MonthlyLoanPayment  \\\n",
       "0               10000  2014-03-03 00:00:00              318.93   \n",
       "1               10000  2012-11-01 00:00:00              321.45   \n",
       "\n",
       "   LP_CustomerPayments  LP_NetPrincipalLoss  IncomeVerifiable  \\\n",
       "0                  0.0                  0.0              True   \n",
       "1               5143.2                  0.0              True   \n",
       "\n",
       "  CreditScore_Rating  \n",
       "0               Good  \n",
       "1          Excellent  "
      ]
     },
     "execution_count": 6,
     "metadata": {},
     "output_type": "execute_result"
    }
   ],
   "source": [
    "#adding the new column to the dataset\n",
    "tf = pd.concat([tf,cr], axis=1)\n",
    "tf.head(2)"
   ]
  },
  {
   "cell_type": "markdown",
   "metadata": {
    "slideshow": {
     "slide_type": "slide"
    }
   },
   "source": [
    "## (Distribution of Loan OriginalAmount )\n",
    "**With the removal of the outliers,we can see that  most proportion of people collected loans ranging from \\\\$1,000 to\\\\$25,000 , which peaked at around \\\\$4,000, coming in second is \\\\$15,000 and third \\\\$10,000. In depth , we can see that most loans collected ranges from a $1000 to \\\\$10,000.**\n"
   ]
  },
  {
   "cell_type": "code",
   "execution_count": 7,
   "id": "8aa44c7a",
   "metadata": {
    "slideshow": {
     "slide_type": "skip"
    }
   },
   "outputs": [
    {
     "data": {
      "text/plain": [
       "(76944, 19)"
      ]
     },
     "execution_count": 7,
     "metadata": {},
     "output_type": "execute_result"
    }
   ],
   "source": [
    "#Remove outliers\n",
    "tf = tf[tf['LoanOriginalAmount']<30000]\n",
    "tf.shape"
   ]
  },
  {
   "cell_type": "code",
   "execution_count": 8,
   "id": "63581f81",
   "metadata": {
    "slideshow": {
     "slide_type": "subslide"
    }
   },
   "outputs": [
    {
     "data": {
      "image/png": "[encoded data removed]",
      "text/plain": [
       "<Figure size 720x504 with 1 Axes>"
      ]
     },
     "metadata": {
      "needs_background": "light"
     },
     "output_type": "display_data"
    }
   ],
   "source": [
    "plt.figure(figsize=[10,7])\n",
    "sb.histplot(data=tf, x='LoanOriginalAmount', kde=True);"
   ]
  },
  {
   "cell_type": "markdown",
   "metadata": {
    "collapsed": true,
    "slideshow": {
     "slide_type": "slide"
    }
   },
   "source": [
    "## (Distribution of the Loan Status)\n",
    "**The Chart below shows that most loans are still in the current phase ,with those completed coming next to it,and those charged off coming in third.\n",
    "The rest of the observations coming in the similar ranges.**"
   ]
  },
  {
   "cell_type": "code",
   "execution_count": 9,
   "id": "3aeb7d21",
   "metadata": {
    "slideshow": {
     "slide_type": "subslide"
    }
   },
   "outputs": [
    {
     "data": {
      "image/png": "[encoded data removed]",
      "text/plain": [
       "<Figure size 864x432 with 1 Axes>"
      ]
     },
     "metadata": {
      "needs_background": "light"
     },
     "output_type": "display_data"
    }
   ],
   "source": [
    "fig,ax= plt.subplots(figsize=(12,6))\n",
    "sb.countplot(data=tf, x='LoanStatus', color='red')\n",
    "fig.autofmt_xdate()\n",
    "plt.show()"
   ]
  },
  {
   "cell_type": "code",
   "execution_count": null,
   "metadata": {
    "slideshow": {
     "slide_type": "subslide"
    }
   },
   "outputs": [],
   "source": []
  },
  {
   "cell_type": "markdown",
   "metadata": {
    "collapsed": true,
    "slideshow": {
     "slide_type": "slide"
    }
   },
   "source": [
    "## (Visualization 2)\n",
    "\n",
    "> You should have at least three visualizations in your presentation,\n",
    "but feel free to add more if you'd like!"
   ]
  },
  {
   "cell_type": "code",
   "execution_count": null,
   "metadata": {
    "slideshow": {
     "slide_type": "subslide"
    }
   },
   "outputs": [],
   "source": []
  },
  {
   "cell_type": "markdown",
   "metadata": {
    "collapsed": true,
    "slideshow": {
     "slide_type": "slide"
    }
   },
   "source": [
    "## (Visualization 2)\n",
    "\n",
    "> You should have at least three visualizations in your presentation,\n",
    "but feel free to add more if you'd like!"
   ]
  },
  {
   "cell_type": "code",
   "execution_count": null,
   "metadata": {
    "slideshow": {
     "slide_type": "subslide"
    }
   },
   "outputs": [],
   "source": []
  },
  {
   "cell_type": "markdown",
   "metadata": {
    "collapsed": true,
    "slideshow": {
     "slide_type": "slide"
    }
   },
   "source": [
    "## (Visualization 2)\n",
    "\n",
    "> You should have at least three visualizations in your presentation,\n",
    "but feel free to add more if you'd like!"
   ]
  },
  {
   "cell_type": "code",
   "execution_count": null,
   "metadata": {
    "slideshow": {
     "slide_type": "subslide"
    }
   },
   "outputs": [],
   "source": []
  },
  {
   "cell_type": "markdown",
   "metadata": {
    "collapsed": true,
    "slideshow": {
     "slide_type": "slide"
    }
   },
   "source": [
    "## (Visualization 2)\n",
    "\n",
    "> You should have at least three visualizations in your presentation,\n",
    "but feel free to add more if you'd like!"
   ]
  },
  {
   "cell_type": "code",
   "execution_count": null,
   "metadata": {
    "slideshow": {
     "slide_type": "subslide"
    }
   },
   "outputs": [],
   "source": []
  },
  {
   "cell_type": "markdown",
   "metadata": {
    "collapsed": true,
    "slideshow": {
     "slide_type": "slide"
    }
   },
   "source": [
    "## (Visualization 2)\n",
    "\n",
    "> You should have at least three visualizations in your presentation,\n",
    "but feel free to add more if you'd like!"
   ]
  },
  {
   "cell_type": "code",
   "execution_count": null,
   "metadata": {
    "slideshow": {
     "slide_type": "subslide"
    }
   },
   "outputs": [],
   "source": []
  },
  {
   "cell_type": "markdown",
   "metadata": {
    "collapsed": true,
    "slideshow": {
     "slide_type": "slide"
    }
   },
   "source": [
    "## (Visualization 2)\n",
    "\n",
    "> You should have at least three visualizations in your presentation,\n",
    "but feel free to add more if you'd like!"
   ]
  },
  {
   "cell_type": "code",
   "execution_count": null,
   "metadata": {
    "slideshow": {
     "slide_type": "subslide"
    }
   },
   "outputs": [],
   "source": []
  },
  {
   "cell_type": "markdown",
   "metadata": {
    "slideshow": {
     "slide_type": "slide"
    }
   },
   "source": [
    "## (Visualization 3)\n",
    "\n"
   ]
  },
  {
   "cell_type": "code",
   "execution_count": null,
   "metadata": {
    "slideshow": {
     "slide_type": "subslide"
    }
   },
   "outputs": [],
   "source": []
  },
  {
   "cell_type": "markdown",
   "metadata": {
    "slideshow": {
     "slide_type": "notes"
    }
   },
   "source": [
    ">**Generate Slideshow**: Once you're ready to generate your slideshow, use the `jupyter nbconvert` command to generate the HTML slide show. . From the terminal or command line, use the following expression."
   ]
  },
  {
   "cell_type": "code",
   "execution_count": 10,
   "metadata": {
    "slideshow": {
     "slide_type": "skip"
    }
   },
   "outputs": [],
   "source": [
    "# !jupyter nbconvert <Part_II_Filename>.ipynb --to slides --post serve --no-input --no-prompt"
   ]
  },
  {
   "cell_type": "markdown",
   "metadata": {
    "slideshow": {
     "slide_type": "notes"
    }
   },
   "source": [
    "> This should open a tab in your web browser where you can scroll through your presentation. Sub-slides can be accessed by pressing 'down' when viewing its parent slide. Make sure you remove all of the quote-formatted guide notes like this one before you finish your presentation! At last, you can stop the Kernel. "
   ]
  },
  {
   "cell_type": "code",
   "execution_count": null,
   "metadata": {},
   "outputs": [],
   "source": []
  }
 ],
 "metadata": {
  "celltoolbar": "Edit Metadata",
  "kernelspec": {
   "display_name": "Python 3 (ipykernel)",
   "language": "python",
   "name": "python3"
  },
  "language_info": {
   "codemirror_mode": {
    "name": "ipython",
    "version": 3
   },
   "file_extension": ".py",
   "mimetype": "text/x-python",
   "name": "python",
   "nbconvert_exporter": "python",
   "pygments_lexer": "ipython3",
   "version": "3.9.12"
  }
 },
 "nbformat": 4,
 "nbformat_minor": 2
}
